{
 "cells": [
  {
   "cell_type": "code",
   "execution_count": 1,
   "id": "0d62abf4",
   "metadata": {},
   "outputs": [],
   "source": [
    "from tensorboard.backend.event_processing import event_accumulator\n",
    "import matplotlib.pyplot as plt\n",
    "import numpy as np\n",
    "\n",
    "plt.style.use('ggplot')"
   ]
  },
  {
   "cell_type": "code",
   "execution_count": 2,
   "id": "b066804f",
   "metadata": {},
   "outputs": [],
   "source": [
    "def mean_plot(files,titles,plot_title=None,measurement=None):\n",
    "    if measurement == None:\n",
    "        measurement = 'Train_AverageReturn'\n",
    "    color_list = ['darkorange','darkblue','green','slategrey']\n",
    "    rewards_out = []\n",
    "    for category in files:\n",
    "        first_file = True\n",
    "        rewards = []\n",
    "        steps = []\n",
    "        prev_len = 0\n",
    "        \n",
    "        for file in category:\n",
    "\n",
    "            ea = event_accumulator.EventAccumulator(file)\n",
    "            ea.Reload()\n",
    "            \n",
    "            step_len = len(ea.Scalars(measurement))\n",
    "                \n",
    "            for i in range(step_len):\n",
    "                if first_file:\n",
    "                    rewards.append(ea.Scalars(measurement)[i][2])\n",
    "                    steps.append(ea.Scalars(measurement)[i][1])\n",
    "                else: \n",
    "                    rewards[i] += ea.Scalars(measurement)[i][2]\n",
    "\n",
    "                rewards = [np.mean(rewards[i]) for i in range(len(rewards))]\n",
    "\n",
    "            first_file=False\n",
    "            prev_len = step_len\n",
    "            \n",
    "        rewards_out.append(rewards)\n",
    "                \n",
    "    #print('Hello')\n",
    "    fig = plt.figure(figsize=(8,4))\n",
    "    #print('Hello 2')\n",
    "    \n",
    "    print(rewards_out)\n",
    "    print(steps)\n",
    "    \n",
    "    ax = plt.subplot(111)\n",
    "        \n",
    "    for k in range(len(rewards_out)):\n",
    "        line, = ax.plot(steps,rewards_out[k],label=titles[k],linewidth=3,color=color_list[k])\n",
    "    \n",
    "    box = ax.get_position()\n",
    "    ax.set_position([box.x0, box.y0 + box.height * 0.1,box.width, box.height * 0.9])\n",
    "\n",
    "    ax.legend(loc='upper center', bbox_to_anchor=(0.5, -0.1),fancybox=True, shadow=True, ncol=len(rewards))\n",
    "\n",
    "    if plot_title != None:\n",
    "        plt.title(plot_title)\n",
    "    \n",
    "    plt.show()"
   ]
  },
  {
   "cell_type": "markdown",
   "id": "82806866",
   "metadata": {},
   "source": [
    "# Q1.1"
   ]
  },
  {
   "cell_type": "code",
   "execution_count": null,
   "id": "3fcbb321",
   "metadata": {},
   "outputs": [
    {
     "name": "stdout",
     "output_type": "stream",
     "text": [
      "[[-150.0, -148.92308044433594, -148.5500030517578, -148.88461303710938, -149.1212158203125, -149.0, -149.04347229003906, -149.16981506347656, -149.13333129882812, -147.89552307128906, -128.1999969482422, -117.83999633789062, -94.91000366210938, -68.69000244140625, -47.349998474121094, -43.439998626708984, -39.52000045776367, -39.13999938964844, -36.93000030517578, -33.66999816894531, -32.91999816894531, -31.989999771118164, -32.459999084472656, -31.100000381469727, -30.219999313354492, -30.469999313354492, -30.5, -30.299999237060547, -29.889999389648438, -29.049999237060547, -29.469999313354492, -29.690000534057617, -30.530000686645508, -29.719999313354492, -29.719999313354492, -29.489999771118164, -29.489999771118164, -28.850000381469727, -28.360000610351562, -27.65999984741211, -27.899999618530273, -28.309999465942383, -28.299999237060547, -27.59000015258789, -27.729999542236328, -28.100000381469727, -29.0, -28.59000015258789, -28.559999465942383], [-150.0, -150.0, -150.0, -146.55555725097656, -145.88235473632812, -145.97561645507812, -146.48936462402344, -146.94444274902344, -147.04917907714844, -146.13235473632812, -146.4933319091797, -146.75308227539062, -147.01136779785156, -146.4842071533203, -143.77999877929688, -136.8699951171875, -125.29000091552734, -111.62000274658203, -91.27999877929688, -66.66999816894531, -49.33000183105469, -39.86000061035156, -35.84000015258789, -33.91999816894531, -33.22999954223633, -33.02000045776367, -31.770000457763672, -30.81999969482422, -30.420000076293945, -30.760000228881836, -30.540000915527344, -30.489999771118164, -29.719999313354492, -29.760000228881836, -29.290000915527344, -29.25, -28.530000686645508, -27.649999618530273, -27.670000076293945, -27.25, -27.959999084472656, -28.229999542236328, -28.030000686645508, -27.639999389648438, -27.649999618530273, -28.260000228881836, -28.229999542236328, -28.299999237060547, -28.100000381469727]]\n",
      "[1001, 2001, 3001, 4001, 5001, 6001, 7001, 8001, 9001, 10001, 11001, 12001, 13001, 14001, 15001, 16001, 17001, 18001, 19001, 20001, 21001, 22001, 23001, 24001, 25001, 26001, 27001, 28001, 29001, 30001, 31001, 32001, 33001, 34001, 35001, 36001, 37001, 38001, 39001, 40001, 41001, 42001, 43001, 44001, 45001, 46001, 47001, 48001, 49001]\n"
     ]
    }
   ],
   "source": [
    "mean_plot([['./data/hw5_expl_q1_env2_rnd_PointmassMedium-v0_10-11-2022_20-49-12'],['./data/hw5_expl_q1_env2_random_PointmassMedium-v0_11-11-2022_10-52-46']],['1 Layer','2 Layer,'],'MsPacman-v0')"
   ]
  },
  {
   "cell_type": "code",
   "execution_count": null,
   "id": "a6f0e56b",
   "metadata": {},
   "outputs": [],
   "source": []
  }
 ],
 "metadata": {
  "kernelspec": {
   "display_name": "Python 3 (ipykernel)",
   "language": "python",
   "name": "python3"
  },
  "language_info": {
   "codemirror_mode": {
    "name": "ipython",
    "version": 3
   },
   "file_extension": ".py",
   "mimetype": "text/x-python",
   "name": "python",
   "nbconvert_exporter": "python",
   "pygments_lexer": "ipython3",
   "version": "3.9.12"
  }
 },
 "nbformat": 4,
 "nbformat_minor": 5
}
