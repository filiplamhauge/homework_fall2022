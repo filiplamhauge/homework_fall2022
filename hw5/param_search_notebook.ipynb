{
 "cells": [
  {
   "cell_type": "code",
   "execution_count": 2,
   "id": "198382ae",
   "metadata": {},
   "outputs": [],
   "source": [
    "import subprocess"
   ]
  },
  {
   "cell_type": "markdown",
   "id": "3d665794",
   "metadata": {},
   "source": [
    "# Q2"
   ]
  },
  {
   "cell_type": "code",
   "execution_count": 6,
   "id": "12d74f8d",
   "metadata": {},
   "outputs": [],
   "source": [
    "# These are actually DQN\n",
    "overall_command = [\"python cs285/scripts/run_hw5_expl.py --env_name PointmassMedium-v0 --use_rnd --num_exploration_steps=\",\" --offline_exploitation --cql_alpha=0 --unsupervised_exploration --exp_name q2_cql_numsteps_\"]\n",
    "\n",
    "num_exploration_steps = ['5000','15000']\n",
    "\n",
    "for step in num_exploration_steps:\n",
    "    command = overall_command[0]+step+overall_command[1]+step\n",
    "    result = subprocess.run(command, stdout=subprocess.PIPE)"
   ]
  },
  {
   "cell_type": "code",
   "execution_count": 7,
   "id": "febc4472",
   "metadata": {},
   "outputs": [],
   "source": [
    "# These are actually DQN\n",
    "overall_command = [\"python cs285/scripts/run_hw5_expl.py --env_name PointmassMedium-v0 --use_rnd --num_exploration_steps=\",\" --offline_exploitation --cql_alpha=0.1 --unsupervised_exploration --exp_name q2_cql_numsteps_\"]\n",
    "\n",
    "num_exploration_steps = ['5000','15000']\n",
    "\n",
    "for step in num_exploration_steps:\n",
    "    command = overall_command[0]+step+overall_command[1]+step\n",
    "    result = subprocess.run(command, stdout=subprocess.PIPE)"
   ]
  },
  {
   "cell_type": "code",
   "execution_count": 8,
   "id": "e5e504d6",
   "metadata": {},
   "outputs": [],
   "source": [
    "overall_command = [\"python cs285/scripts/run_hw5_expl.py --env_name PointmassHard-v0 --use_rnd --num_exploration_steps=\",\" --offline_exploitation --cql_alpha=0 --unsupervised_exploration --exp_name q2_dqn_numsteps_\"]\n",
    "\n",
    "num_exploration_steps = ['5000','15000']\n",
    "\n",
    "for step in num_exploration_steps:\n",
    "    command = overall_command[0]+step+overall_command[1]+step\n",
    "    result = subprocess.run(command, stdout=subprocess.PIPE)"
   ]
  },
  {
   "cell_type": "code",
   "execution_count": 9,
   "id": "743d8226",
   "metadata": {},
   "outputs": [],
   "source": [
    "overall_command = [\"python cs285/scripts/run_hw5_expl.py --env_name PointmassHard-v0 --use_rnd --num_exploration_steps=\",\" --offline_exploitation --cql_alpha=0.1 --unsupervised_exploration --exp_name q2_cql_numsteps_\"]\n",
    "\n",
    "num_exploration_steps = ['5000','15000']\n",
    "\n",
    "for step in num_exploration_steps:\n",
    "    command = overall_command[0]+step+overall_command[1]+step\n",
    "    result = subprocess.run(command, stdout=subprocess.PIPE)"
   ]
  },
  {
   "cell_type": "code",
   "execution_count": 10,
   "id": "d472a25a",
   "metadata": {},
   "outputs": [],
   "source": [
    "#python cs285/scripts/run_hw5_expl.py --env_name PointmassMedium-v0 --use_rnd --unsupervised_exploration --offline_exploitation --cql_alpha=[0.02, 0.5] --exp_name q2_alpha[cql_alpha]\n",
    "\n",
    "overall_command = [\"python cs285/scripts/run_hw5_expl.py --env_name PointmassMedium-v0 --use_rnd --unsupervised_exploration --offline_exploitation --cql_alpha=\",\" --exp_name q2_alpha\"]\n",
    "\n",
    "num_exploration_steps = ['0.02', '0.5']\n",
    "\n",
    "for step in num_exploration_steps:\n",
    "    command = overall_command[0]+step+overall_command[1]+step\n",
    "    result = subprocess.run(command, stdout=subprocess.PIPE)"
   ]
  },
  {
   "cell_type": "markdown",
   "id": "d42a23c6",
   "metadata": {},
   "source": [
    "# Q3"
   ]
  },
  {
   "cell_type": "code",
   "execution_count": 11,
   "id": "f4d15780",
   "metadata": {},
   "outputs": [],
   "source": [
    "commands = ['python cs285/scripts/run_hw5_expl.py --env_name PointmassMedium-v0 --use_rnd --num_exploration_steps=20000 --cql_alpha=0.0 --exp_name q3_medium_dqn',\n",
    "           'python cs285/scripts/run_hw5_expl.py --env_name PointmassMedium-v0 --use_rnd --num_exploration_steps=20000 --cql_alpha=1.0 --exp_name q3_medium_cql',\n",
    "           'python cs285/scripts/run_hw5_expl.py --env_name PointmassHard-v0 --use_rnd --num_exploration_steps=20000 --cql_alpha=0.0 --exp_name q3_hard_dqn',\n",
    "           'python cs285/scripts/run_hw5_expl.py --env_name PointmassHard-v0 --use_rnd --num_exploration_steps=20000 --cql_alpha=1.0 --exp_name q3_hard_cql']\n",
    "\n",
    "for command in commands:\n",
    "    result = subprocess.run(command, stdout=subprocess.PIPE)"
   ]
  },
  {
   "cell_type": "markdown",
   "id": "6e9df2a4",
   "metadata": {},
   "source": [
    "# Q4"
   ]
  },
  {
   "cell_type": "code",
   "execution_count": null,
   "id": "dc4dfa7e",
   "metadata": {},
   "outputs": [],
   "source": [
    "commands = [\n",
    "           ['python cs285/scripts/run_hw5_awac.py --env_name PointmassMedium-v0 --use_rnd --num_exploration_steps=20000 --unsupervised_exploration --awac_lambda=',' --exp_name q4_awac_medium_unsupervised_lam'],\n",
    "           ['python cs285/scripts/run_hw5_awac.py --env_name PointmassMedium-v0 --use_rnd --num_exploration_steps=20000 --awac_lambda=',' --exp_name q4_awac_medium_supervised_lam']]\n",
    "\n",
    "awac_lambdas = ['0.1','1','2','10','20','50']\n",
    "\n",
    "for command in commands:\n",
    "    for a_lambda in awac_lambdas:\n",
    "        shell_command = command[0]+a_lambda+command[1]+a_lambda\n",
    "        result = subprocess.run(shell_command, stdout=subprocess.PIPE)"
   ]
  },
  {
   "cell_type": "code",
   "execution_count": null,
   "id": "de860499",
   "metadata": {},
   "outputs": [],
   "source": [
    "python cs285/scripts/run_hw5_awac.py --env_name PointmassEasy-v0 --use_rnd --num_exploration_steps=20000 --awac_lambda=2 --exp_name q4_awac_easy_supervised_lam2"
   ]
  }
 ],
 "metadata": {
  "kernelspec": {
   "display_name": "Python 3 (ipykernel)",
   "language": "python",
   "name": "python3"
  },
  "language_info": {
   "codemirror_mode": {
    "name": "ipython",
    "version": 3
   },
   "file_extension": ".py",
   "mimetype": "text/x-python",
   "name": "python",
   "nbconvert_exporter": "python",
   "pygments_lexer": "ipython3",
   "version": "3.9.12"
  }
 },
 "nbformat": 4,
 "nbformat_minor": 5
}
